{
 "cells": [
  {
   "cell_type": "markdown",
   "metadata": {},
   "source": [
    "# TME Robotique et Apprentissage: Optimisation Multi-Objectif"
   ]
  },
  {
   "cell_type": "markdown",
   "metadata": {},
   "source": [
    "* Étudiant: Nom: HE Prénom: Xin\n",
    "* Si binome: Nom: Yang Prénom: Zhuangzhuang\n",
    "\n",
    "Merci à chaque membre du binome de soumettre en son nom sous moodle, cela facilite le suivi."
   ]
  },
  {
   "cell_type": "markdown",
   "metadata": {},
   "source": [
    "## Introduction\n",
    "\n",
    "Dans ce TME, vous allez mettre en oeuvre des algorithmes évolutionnistes, notamment multi-objectifs pour faire de l'apprentissage. Pour cela, différentes fonctions vous sont fournies afin de tracer les individus générés à chaque génération ou de comparer les résultats entre eux. Vous testerez également Gym, un environnement utilisé en apprentissage par renforcement pour normaliser les expériences d'apprentissage sur des robots (virtuels).\n",
    "\n",
    "Vous complèterez ce notebook et le soumettrez, avec les fichiers pythons que vous aurez écrits, sur Moodle. Si cela ne marche pas, vous enverrez le tout à stephane.doncieux@sorbonne-universite.fr avec les fichiers python associés. **ATTENTION** merci de mettre comme sujet: \\[TME RA\\] nom1 et nom2, au risque que votre mail soit perdu dans les limbes...\n",
    "\n",
    "Pour ne pas surcharger le notebook, vous mettrez de préférence votre code dans un fichier python que vous chargerez avec un import. Le code que vous mettrez dans le notebook sera le code appelant vos fonctions et affichant le résultat. Vous prendrez soin d'assurer la lisibilité de votre notebook : afficher les courbes nécessaires pour répondre et n'oubliez pas d'enlever les affichages débogage. **La lisibilité de votre notebook influera sur l'évaluation de votre travail. **\n",
    "\n",
    "Vous devez être en mesure de faire toutes les questions pendant la séance et de compléter votre notebook. Faire tourner ces algorithmes peut prendre du temps, en particulier si vous n'avez pas une machine très puissante, c'est la raison pour laquelle l'énoncé du code vous est fourni et c'est également pour cela qu'il y a peu de question. Utilisez donc le temps disponible pour faire un compte rendu propre dans votre notebook avec les courbes nécessaires (et pas plus) et avec une réponse rédigée (pas besoin de faire long, une ou deux phrases suffisent en général).\n",
    "\n",
    "Vous aurez besoin de la bibliothèque DEAP (https://deap.readthedocs.io/en/master/) et d'OpenAI Gym (https://gym.openai.com/). Ces deux bibliothèques s'installent facilement avec la commande `pip`, comme indiqué dans leur documentation.\n"
   ]
  },
  {
   "cell_type": "code",
   "execution_count": 3,
   "metadata": {},
   "outputs": [],
   "source": [
    "# Note: l'import d'un fichier ne se fait qu'une seule fois. Si vous modifiez ce fichier, \n",
    "# il vous faut redémarrer votre kernel si vous voulez prendre en compte les modifications.\n",
    "# vous pouvez éviter cela de la façon suivante: \n",
    "import importlib # une seule fois\n",
    "\n",
    "#import mon_module_python # le module doit avoir été importé une première fois\n",
    "#importlib.reload(mon_module_python) # cette ligne permet de charger la dernière version\n",
    "\n",
    "import matplotlib.pyplot as plt\n",
    "\n",
    "# pour que les figures apparaissent directement dans le notebook\n",
    "%matplotlib inline \n"
   ]
  },
  {
   "cell_type": "markdown",
   "metadata": {},
   "source": [
    "## 1. Prise en main de DEAP\n",
    "\n",
    "Dans la suite du TME, vous serez invités à utiliser DEAP, qui est une bibliothèque python open source, cf https://deap.readthedocs.io/en/master/index.html.\n",
    "\n",
    "DEAP est une bibliothèque de prototypage rapide d'algorithmes évolutionnistes. Elle permet de travailler à plusieurs niveaux, depuis l'implémentation complète de l'algorithme à partir de briques de base jusqu'à l'utilisation boite noire d'un algorithme entièrement implémenté et en passant par des approches intermédiaires, dans lesquelles des modules sont réutilisés, par exemple pour la sélection, les mutations ou les croisements.  "
   ]
  },
  {
   "cell_type": "markdown",
   "metadata": {},
   "source": [
    "\n",
    "Écrivez un algorithme évolutionniste de type élitiste qui génèrera lambda individus et choisira les mu meilleurs parmi les parents et les enfants. \n",
    "\n",
    "Vous utiliserez un croisement de type SBX (Simulated Binary Crossover) et une mutation de type polynomiale bornée (eta=15.0).\n",
    "\n",
    "Les paramètres seront entre -5 et 5 (vous pourrez utiliser random.uniform pour l'initialisation).\n",
    "\n",
    "Vous utiliserez les fonctions de la toolbox DEAP pour faciliter votre implémentation et vous pourrez vous inspirer des exemples fournis. Vous compléterez le fichier `ea_simple.py`. \n",
    "\n",
    "Vous testerez votre algorithme sur la fonction de Ackley. Elle est disponible dans DEAP et peut être appelées dans n'importe quelle dimension. Vous pourrez faire vos tests avec la dimension 10, par exemple. \n",
    "\n",
    "\n",
    "Les algorithmes évolutionnistes ont une part stochastique et ne donnent donc pas toujours le même résultat. Vous tracerez donc l'évolution de la fitness moyenne pour 10 runs indépendants. Plutôt que de tracer les 10 courbes, vous tracerez la médiane des moyennes et un intervalle représentant le 1er et le 3eme quartile. Vous procéderez pour cela de la façon suivante:\n",
    "\n",
    "\n",
    "    plt.plot(gen,moyenne, label=\"Fitness moyenne\")\n",
    "    plt.fill_between(gen, fit_25, fit_75, alpha=0.25, linewidth=0)\n",
    "\n",
    "gen étant une liste de générations, moyenne la liste des moyennes de moyennes et fit_25 et fit_75 les 1er et 3eme quartiles. Vous pourrez les déterminer avec la fonction quantile de numpy: quantile(points, 0.25) et quantile(points, 0.75), avec points une liste qui contient les fitness des différents runs à une génération donnée (il faut donc faire une boucle et appeler ces fonctions pour chaque génération).\n",
    "\n",
    "\n",
    "Tracez les courbes pour des populations de taille croissante: [5, 10, 100, 200]. Que constatez-vous ?\n"
   ]
  },
  {
   "cell_type": "code",
   "execution_count": 10,
   "metadata": {},
   "outputs": [
    {
     "data": {
      "image/png": "[encoded data removed]",
      "text/plain": [
       "<Figure size 432x288 with 1 Axes>"
      ]
     },
     "metadata": {
      "needs_background": "light"
     },
     "output_type": "display_data"
    }
   ],
   "source": [
    "from ea_simple import ea_simple\n",
    "import deap\n",
    "import numpy as np\n",
    "\n",
    "list = [5, 10, 100, 200]\n",
    "for i in list:\n",
    "    nums_moy = []\n",
    "    nums_fit25 = []\n",
    "    nums_fit75 = []\n",
    "    for j in range(10):\n",
    "        pop, hof, logbook = ea_simple(i, 10, deap.benchmarks.ackley, 10)\n",
    "        gen, moyenne, fit_25, fit_75 = logbook.select(\"gen\", \"avg\", \"fit_25\", \"fit_75\")\n",
    "        nums_moy.append(moyenne)\n",
    "        nums_fit25.append(fit_25)\n",
    "        nums_fit75.append(fit_75)\n",
    "\n",
    "    moyenne = []\n",
    "    for k in range(len(nums_moy[0])):\n",
    "        aux = []\n",
    "        for l in nums_moy:\n",
    "            aux.append(l[k])\n",
    "        moyenne.append(np.median(aux))\n",
    "\n",
    "    fit_25 = []\n",
    "    for k in range(len(nums_fit25[0])):\n",
    "        aux = []\n",
    "        for l in nums_fit25:\n",
    "            aux.append(l[k])\n",
    "        fit_25.append(np.median(aux))\n",
    "\n",
    "    fit_75 = []\n",
    "    for k in range(len(nums_fit75[0])):\n",
    "        aux = []\n",
    "        for l in nums_fit75:\n",
    "            aux.append(l[k])\n",
    "        fit_75.append(np.median(aux))\n",
    "\n",
    "    plt.plot(gen, moyenne,label = \"Fit_\"+i.__str__())\n",
    "    plt.fill_between(gen, fit_25, fit_75, alpha=0.25, linewidth=0)\n",
    "    plt.legend(loc='lower left')"
   ]
  },
  {
   "cell_type": "code",
   "execution_count": null,
   "metadata": {},
   "outputs": [],
   "source": [
    "#Globalement, on a trouve que la valeur du Fitness est diminue avec l'agumentation de la valeur de generation.\n",
    "#Et l'objective diminue plus evidentement si la population est plus grande(avec les valeurs 100 et 200 de nombres de population)."
   ]
  },
  {
   "cell_type": "markdown",
   "metadata": {},
   "source": [
    "## 2. Apprentissage de politiques avec gym\n",
    "\n",
    "L'objectif de cette question est de faire un premier apprentissage de politiques. Vous utiliserez pour cela un problème très simple: le pendule inversé. Il s'agit de contrôler un pendule fixé sur un chariot et capable de tourner. Le chariot peut se déplacer horizontalement. Les mouvements horizontaux du pendule font osciller le pendule et l'objectif est de le maintenir à la verticale.\n",
    "\n",
    "OpenAI-gym est un framework permettant d'implémenter des expériences d'apprentissage par renforcement. Il propose une interface simple et unifiée et inclut de nombreux environnements utilisés pour tester des algorithmes d'apprentissage par renforcement. Vous utiliserez cet environnement et son module CartPole-v1 pour apprendre à contrôler le pendule (voir https://gym.openai.com/envs/CartPole-v1/). \n",
    "\n",
    "Complétez le fichier `gym_cartpole.py`. Vous tracerez dans le notebook l'évolution des fitness comme dans la question précédente. Les calculs étant plus longs, faites en fonction de vos capacités de calcul et, le cas échéant, indiquez en commentaire ce que vous vous attendriez à observer avec une puissance de calcul supérieure. Vous pourrez ne faire le tracé que pour une taille de population. \n",
    "\n",
    "En préparation de la question 4, sauvegardez les erreurs en x et en theta que vous avez obtenues pour chaque expérience."
   ]
  },
  {
   "cell_type": "code",
   "execution_count": 6,
   "metadata": {},
   "outputs": [
    {
     "ename": "ModuleNotFoundError",
     "evalue": "No module named 'gym'",
     "output_type": "error",
     "traceback": [
      "\u001b[1;31m---------------------------------------------------------------------------\u001b[0m",
      "\u001b[1;31mModuleNotFoundError\u001b[0m                       Traceback (most recent call last)",
      "\u001b[1;32m<ipython-input-6-87bd0d33e4f6>\u001b[0m in \u001b[0;36m<module>\u001b[1;34m\u001b[0m\n\u001b[1;32m----> 1\u001b[1;33m \u001b[1;32mimport\u001b[0m \u001b[0mgym\u001b[0m\u001b[1;33m\u001b[0m\u001b[1;33m\u001b[0m\u001b[0m\n\u001b[0m\u001b[0;32m      2\u001b[0m \u001b[1;32mimport\u001b[0m \u001b[0mgym_cartpole\u001b[0m\u001b[1;33m\u001b[0m\u001b[1;33m\u001b[0m\u001b[0m\n\u001b[0;32m      3\u001b[0m \u001b[1;33m\u001b[0m\u001b[0m\n\u001b[0;32m      4\u001b[0m \u001b[1;33m\u001b[0m\u001b[0m\n\u001b[0;32m      5\u001b[0m \u001b[1;32mdef\u001b[0m \u001b[0mtest\u001b[0m\u001b[1;33m(\u001b[0m\u001b[0mpopulation\u001b[0m\u001b[1;33m,\u001b[0m \u001b[0mnb_generation\u001b[0m\u001b[1;33m)\u001b[0m\u001b[1;33m:\u001b[0m\u001b[1;33m\u001b[0m\u001b[1;33m\u001b[0m\u001b[0m\n",
      "\u001b[1;31mModuleNotFoundError\u001b[0m: No module named 'gym'"
     ]
    }
   ],
   "source": [
    "import gym_cartpole\n",
    "\n",
    "\n",
    "def test(population, nb_generation):\n",
    "    pop, hof, logbook = ea_simple(population, nb_generation, eval_nn,IND_SIZE,weights=(1.0,))\n",
    "    end_fitness = eval_nn(hof[0], render=False, nbstep = 500)\n",
    "    # env.close()\n",
    "    return pop, hof, logbook\n",
    "\n",
    "for i in [5]:\n",
    "    nums_moy=[]\n",
    "    nums_fit25=[]\n",
    "    nums_fit75=[]\n",
    "    for j in range(10):\n",
    "        pop, hof, logbook = test(i,50)\n",
    "        gen, moyenne, fit_25, fit_75 = logbook.select(\"gen\", \"avg\", \"fit_25\", \"fit_75\")\n",
    "        nums_moy.append(moyenne)\n",
    "        nums_fit25.append(fit_25)\n",
    "        nums_fit75.append(fit_75)\n",
    "        \n",
    "    moyenne = []\n",
    "    for k in range(len(nums_moy[0])):\n",
    "        temp = [] \n",
    "        for l in nums_moy:\n",
    "            temp.append(l[k])\n",
    "        moyenne.append(np.median(temp))\n",
    "        \n",
    "    fit_25 = []\n",
    "    for k in range(len(nums_fit25[0])):\n",
    "        temp = [] \n",
    "        for l in nums_fit25:\n",
    "            temp.append(l[k])\n",
    "        fit_25.append(np.median(temp))\n",
    "    \n",
    "    fit_75 = []\n",
    "    for k in range(len(nums_fit75[0])):\n",
    "        temp = [] \n",
    "        for l in nums_fit75:\n",
    "            temp.append(l[k])\n",
    "        fit_75.append(np.median(temp))\n",
    "\n",
    "    plt.plot(gen,moyenne, label=\"Fitness moyenne\")\n",
    "    plt.fill_between(gen, fit_25, fit_75, alpha=0.25, linewidth=0)\n",
    "    \n",
    "\n",
    "\n",
    "#affichage le résultat\n",
    "#end_fitness = gym_cartpole.eval_nn(hof0, render=True, nbstep = 500)"
   ]
  },
  {
   "cell_type": "markdown",
   "metadata": {},
   "source": [
    "**Remarque**: L'évaluation du pendule commence à une position aléatoire. Affichez plusieurs fois de suite la fitness obtenue en visualisant un même individu. Vous devriez observez que la fitness obtenue n'est pas toujours la même. C'est une illustration du problème de la généralisation. Pendant l'apprentissage, une politique n'a été testée que dans une condition particulière. Si vous changer un peu les conditions, vous n'avez pas de garantie sur ce qu'il va se passer... Pour limiter ce problème, une stratégie simple consiste à calculer la fitness non pas sur une seule évaluation, mais sur plusieurs et à prendre la moyenne de ces différentes évaluations. Cela devrait réduire la variabilité observée. Si la puissance de calcul dont vous disposez le permet, vous pouvez modifier ainsi votre fontion d'évaluation."
   ]
  },
  {
   "cell_type": "markdown",
   "metadata": {},
   "source": [
    "## 3. Implémentation de NSGA-II\n",
    "\n",
    "Implémentez maintenant NSGA-II en vous appuyant sur les fonctions fournies dans DEAP (fichier `nsga2.py` à compléter). Vous testerez NSGA-II sur un benchmark multi-objectif fourni dans DEAP, par exemple, la fonction de Fonseca et Fleming.\n",
    "\n",
    "Utilisez l'hypervolume pour caractériser la performance et tracer les courbes avec l'hypervolume (moyenne et 1er-3eme quartiles).\n",
    "\n",
    "Comme précédemment, tracez l'évolution de l'hypervolume (mediane et 1er et 3eme quartiles) pour des populations de taille [5, 10, 100, 200]. \n",
    "\n",
    "Que remarquez-vous ?\n",
    "\n",
    "Dans le cas de la fonction de Fonseca, vous pourrez utiliser (1,1) comme point de référence."
   ]
  },
  {
   "cell_type": "code",
   "execution_count": null,
   "metadata": {},
   "outputs": [],
   "source": [
    "print(\"Exemple d'utilisation du code de calcul de l'hypervolume. L'hypothèse est celle d'une minimisation.\")\n",
    "print(\"Il faut donner un point de référence correspondant, par exemple, aux valeurs maximales pour les objectifs.\")\n",
    "from deap.tools._hypervolume import hv\n",
    "print(\"Hypervolume: %f\"%(hv.hypervolume([np.array([1,0]), np.array([1,1]), np.array([0,1])], np.array([2,2]))))\n"
   ]
  },
  {
   "cell_type": "code",
   "execution_count": null,
   "metadata": {},
   "outputs": [],
   "source": [
    "# à compléter pour appeler votre algorithme évolutionniste sur les différentes tailles de population et tracer l'évolution de la fitness moyenne\n"
   ]
  },
  {
   "cell_type": "markdown",
   "metadata": {},
   "source": [
    "## 4. Apprentissage direct dans l'espace des politiques, version multi-objectif\n",
    "\n",
    "Le pendule inversé est en fait un problème multi-objectif dans lequel le pendule doit être maintenu à la verticale, le chariot étant centré dans une zone donnée. \n",
    "\n",
    "Compléter le fichier `gym_cartpole_2.py` pour minimiser l'erreur en x et en theta avec NSGA-2. Vous pourrez tracer l'évolution de l'hypervolume ou modifier le code de NSGA2 pour tracer l'évolution de l'erreur en x et de l'erreur en theta. \n",
    "\n",
    "Vous pourrez également tracer les différents points explorés dans l'espace objectif au fil des générations pour matérialiser le progrès vers le front de Pareto. Vous pourrez ajouter sur cette courbe les points obtenus par les expériences en mono-objectif.\n"
   ]
  },
  {
   "cell_type": "code",
   "execution_count": null,
   "metadata": {},
   "outputs": [],
   "source": []
  }
 ],
 "metadata": {
  "kernelspec": {
   "display_name": "Python 3",
   "language": "python",
   "name": "python3"
  },
  "language_info": {
   "codemirror_mode": {
    "name": "ipython",
    "version": 3
   },
   "file_extension": ".py",
   "mimetype": "text/x-python",
   "name": "python",
   "nbconvert_exporter": "python",
   "pygments_lexer": "ipython3",
   "version": "3.9.1"
  }
 },
 "nbformat": 4,
 "nbformat_minor": 2
}
